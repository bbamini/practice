{
 "cells": [
  {
   "cell_type": "code",
   "execution_count": 1,
   "metadata": {
    "collapsed": false
   },
   "outputs": [],
   "source": [
    "from ffmpy import FFmpeg\n",
    "from os import listdir\n",
    "\n",
    "\n",
    "def hstack(left, right, output, crf=10):\n",
    "    ff = FFmpeg(\n",
    "        inputs = {\n",
    "                left: None,\n",
    "                right: None,\n",
    "        },\n",
    "        outputs = {\n",
    "                output: [\n",
    "                    '-filter_complex', \"[0:v][1:v]hstack=inputs=2[v]\",\n",
    "                    '-map', \"[v]\",\n",
    "                    '-c:v', 'libx264',\n",
    "                    '-crf', '{}'.format(crf),\n",
    "                ]\n",
    "        }\n",
    "    )\n",
    "    ff.run()\n",
    "    return\n",
    "\n",
    "\n",
    "def video_run(data_folder):\n",
    "    data_filenames = listdir(data_folder)\n",
    "    base_filenames = []\n",
    "    for filename in data_filenames:\n",
    "        if \"_Front.wmv\" in filename:\n",
    "            base_filenames.append(filename.replace(\"_Front.wmv\", \"\"))\n",
    "        elif \"_Side.wmv\" in filename:\n",
    "            base_filenames.append(filename.replace(\"_Side.wmv\", \"\"))\n",
    "    base_filenames = set(base_filenames)\n",
    "    \n",
    "    for base_name in base_filenames:\n",
    "        front = data_folder + \"/\" + base_name + \"_Front.wmv\"\n",
    "        side = data_folder + \"/\" + base_name + \"_Side.wmv\"\n",
    "        output_file = data_folder + \"/\" + base_name + \".mp4\"\n",
    "        hstack(front, side, output_file)       \n",
    "    return\n",
    "\n",
    "video_run(\"input\")\n",
    "    \n",
    "    "
   ]
  },
  {
   "cell_type": "code",
   "execution_count": 20,
   "metadata": {
    "collapsed": false,
    "scrolled": true
   },
   "outputs": [
    {
     "data": {
      "text/plain": [
       "'3.5.2 |Anaconda custom (64-bit)| (default, Jul  5 2016, 11:41:13) [MSC v.1900 64 bit (AMD64)]'"
      ]
     },
     "execution_count": 20,
     "metadata": {},
     "output_type": "execute_result"
    }
   ],
   "source": [
    "import sys\n",
    "sys.version"
   ]
  }
 ],
 "metadata": {
  "anaconda-cloud": {},
  "kernelspec": {
   "display_name": "Python [conda root]",
   "language": "python",
   "name": "conda-root-py"
  },
  "language_info": {
   "codemirror_mode": {
    "name": "ipython",
    "version": 3
   },
   "file_extension": ".py",
   "mimetype": "text/x-python",
   "name": "python",
   "nbconvert_exporter": "python",
   "pygments_lexer": "ipython3",
   "version": "3.5.2"
  }
 },
 "nbformat": 4,
 "nbformat_minor": 1
}
